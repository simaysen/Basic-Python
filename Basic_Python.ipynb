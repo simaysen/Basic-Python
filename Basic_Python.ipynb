{
  "nbformat": 4,
  "nbformat_minor": 0,
  "metadata": {
    "colab": {
      "provenance": [],
      "authorship_tag": "ABX9TyOi1NcuwStOluj+l1Qulv3R"
    },
    "kernelspec": {
      "name": "python3",
      "display_name": "Python 3"
    },
    "language_info": {
      "name": "python"
    }
  },
  "cells": [
    {
      "cell_type": "markdown",
      "source": [
        "# Homeworks (Week 1) May 3, 2025"
      ],
      "metadata": {
        "id": "DIt5sEw99psq"
      }
    },
    {
      "cell_type": "code",
      "source": [
        "#(inputs will be asked from the user) the condition that prints the value as positive, negative, or zero\n",
        "x = int(input(\"Enter a number: \"))\n",
        "if x != 0:\n",
        "  if x>0:\n",
        "    print(\"The number is positive\")\n",
        "  else:\n",
        "    print(\"The number is negative\")\n",
        "else:\n",
        "  print(\"The number is zero\")\n"
      ],
      "metadata": {
        "colab": {
          "base_uri": "https://localhost:8080/"
        },
        "id": "Fjk-Rual99VR",
        "outputId": "1e36e59b-6c45-43e4-a00c-63cb8354344c"
      },
      "execution_count": 5,
      "outputs": [
        {
          "output_type": "stream",
          "name": "stdout",
          "text": [
            "Enter a number: 0\n",
            "The number is zero\n"
          ]
        }
      ]
    },
    {
      "cell_type": "code",
      "source": [
        "#the condition that prints the answer about whether the number is odd or even\n",
        "x = int(input(\"Enter a number: \"))\n",
        "if x%2 == 0:\n",
        "  print(\"This is an even number\")\n",
        "else:\n",
        "  print(\"This is an odd number\")"
      ],
      "metadata": {
        "colab": {
          "base_uri": "https://localhost:8080/"
        },
        "id": "2AKw7IYu_cIY",
        "outputId": "c2ed4ed5-9b3b-4390-cae6-1833b70610b4"
      },
      "execution_count": 6,
      "outputs": [
        {
          "output_type": "stream",
          "name": "stdout",
          "text": [
            "Enter a number: 3333333333\n",
            "This is an odd number\n"
          ]
        }
      ]
    },
    {
      "cell_type": "code",
      "source": [
        "#according to the grade that is entered by the user, the condition that tells which letter grade it corresponds to\n",
        "grade = int(input(\"Enter your grade: \"))\n",
        "if grade >= 95:\n",
        "  print(\"Your letter grade is A+\")\n",
        "  print(\"Congratulations!\")\n",
        "elif grade >= 90:\n",
        "    print(\"Your letter grade is A\")\n",
        "elif grade >= 85:\n",
        "    print(\"Your letter grade is B+\")\n",
        "elif grade >=80:\n",
        "    print(\"Your letter grade is B\")\n",
        "elif grade >= 70:\n",
        "    print(\"Your letter grade is C\")\n",
        "elif grade >= 60:\n",
        "    print(\"Your letter grade is D\")\n",
        "else:\n",
        "  print(\"Your letter grade is F\")\n",
        "  print(\"You've failed:(\")\n",
        "\n"
      ],
      "metadata": {
        "colab": {
          "base_uri": "https://localhost:8080/"
        },
        "id": "9yKWS7oY_3RZ",
        "outputId": "0992300e-5f14-4e9e-bb41-c5b45485bd44"
      },
      "execution_count": 17,
      "outputs": [
        {
          "output_type": "stream",
          "name": "stdout",
          "text": [
            "Enter your grade: 98\n",
            "Your letter grade is A+\n",
            "Congratulations!\n"
          ]
        }
      ]
    },
    {
      "cell_type": "code",
      "source": [
        "#with for and while separately, the algorythm that finds whether the input integer is a prime number\n",
        "x = int(input(\"Enter a number: \"))\n",
        "if x < 2:\n",
        "  print(\"This is not a prime number.\")\n",
        "else:\n",
        "  if x == 2:\n",
        "    print(\"This is a prime number.\")\n",
        "for i in range(2, x):\n",
        "  if x%i == 0:\n",
        "    print(\"This is not a prime number.\")\n",
        "    break\n",
        "  print(\"This is a prime number.\")\n",
        "  break\n",
        ""
      ],
      "metadata": {
        "colab": {
          "base_uri": "https://localhost:8080/"
        },
        "id": "DuKvGmgHCifF",
        "outputId": "bba44556-9392-4fd4-d53e-85af8f02a09e"
      },
      "execution_count": 104,
      "outputs": [
        {
          "output_type": "stream",
          "name": "stdout",
          "text": [
            "Enter a number: 1\n",
            "This is not a prime number.\n",
            "Enter a number: 2\n",
            "This is a prime number.\n",
            "This is not a prime number.\n"
          ]
        }
      ]
    },
    {
      "cell_type": "code",
      "source": [
        "x = int(input(\"Enter a number: \"))\n",
        "if x < 2:\n",
        "  print(\"This is not a prime number.\")\n",
        "else:\n",
        "  if x == 2:\n",
        "    print(\"This is a prime number.\")\n",
        "i=1\n",
        "while i<x:\n",
        "  if x%i == 0:\n",
        "    print(\"This is not a prime number.\")\n",
        "    break\n",
        "  print(\"This is a prime number.\")\n",
        "  break"
      ],
      "metadata": {
        "colab": {
          "base_uri": "https://localhost:8080/"
        },
        "id": "FnzLfsAaaFXG",
        "outputId": "b13ba6fa-be12-4a4c-8dc8-4306d1788c6a"
      },
      "execution_count": 108,
      "outputs": [
        {
          "output_type": "stream",
          "name": "stdout",
          "text": [
            "Enter a number: 7\n",
            "This is not a prime number.\n"
          ]
        }
      ]
    },
    {
      "cell_type": "code",
      "source": [
        "#the input would be a name, write the condition where if the name is longer than five characters it'd say that you have a long name\n",
        "name = str(input(\"Enter your name:\"))\n",
        "if len(name) >= 5:\n",
        "  print(\"You have a long name!\")\n",
        "else:\n",
        "  print(\"You have a short name.\")"
      ],
      "metadata": {
        "colab": {
          "base_uri": "https://localhost:8080/"
        },
        "id": "wuxYBzyKCiY6",
        "outputId": "0c5b6fc3-a638-4f37-c643-a7b74d909286"
      },
      "execution_count": 20,
      "outputs": [
        {
          "output_type": "stream",
          "name": "stdout",
          "text": [
            "Enter your name:jhjf\n",
            "You have a short name.\n"
          ]
        }
      ]
    },
    {
      "cell_type": "code",
      "source": [
        "notlar = [45, 85, 75, 50]\n",
        "#in the list 'notlar' the cycle where the index number of '75' is printed\n",
        "for i in notlar:\n",
        "  print(int(notlar.index(i)))\n",
        "\n",
        "print(notlar.index(50))\n",
        "print(notlar.index(85))\n",
        "print(notlar.index(75))\n",
        "print(notlar.index(45))"
      ],
      "metadata": {
        "colab": {
          "base_uri": "https://localhost:8080/"
        },
        "id": "mruDlMriGg8Y",
        "outputId": "f3e9ff06-350e-4ef0-d6a2-0ad8c14d74b1"
      },
      "execution_count": 91,
      "outputs": [
        {
          "output_type": "stream",
          "name": "stdout",
          "text": [
            "0\n",
            "1\n",
            "2\n",
            "3\n",
            "3\n",
            "1\n",
            "2\n",
            "0\n"
          ]
        }
      ]
    },
    {
      "cell_type": "code",
      "source": [
        "#take the factorial of the number entered as input\n",
        "x = int(input(\"Enter a number: \"))\n",
        "result=1\n",
        "i=1\n",
        "while i<=x:\n",
        "  result *= i\n",
        "  i+=1\n",
        "print(result)"
      ],
      "metadata": {
        "colab": {
          "base_uri": "https://localhost:8080/"
        },
        "id": "-UKVqifiHL-y",
        "outputId": "e53219f3-549a-4275-8022-c2b487a06d4b"
      },
      "execution_count": 93,
      "outputs": [
        {
          "output_type": "stream",
          "name": "stdout",
          "text": [
            "Enter a number: 7\n",
            "5040\n"
          ]
        }
      ]
    },
    {
      "cell_type": "code",
      "source": [
        "#build a structure which asks for a positive number from the user and asks again and again if the user enters a negative number(with for)\n",
        "for i in range(10):\n",
        "  x = int(input(\"Enter a positive number:\"))\n",
        "  if x>0:\n",
        "    print(\"Thanks! You have entered a positive number.\")\n",
        "    break\n",
        "  else:\n",
        "    print(\"This number is not positive. Please enter a positive number.\")"
      ],
      "metadata": {
        "colab": {
          "base_uri": "https://localhost:8080/"
        },
        "id": "5ekrJAzCIVKa",
        "outputId": "769b1ca7-4f29-4b62-cb12-a057a536983f"
      },
      "execution_count": 37,
      "outputs": [
        {
          "output_type": "stream",
          "name": "stdout",
          "text": [
            "Enter a positive number:-9\n",
            "This number is not positive. Please enter a positive number.\n",
            "Enter a positive number:-0\n",
            "This number is not positive. Please enter a positive number.\n",
            "Enter a positive number:5\n",
            "Thanks! You have entered a positive number.\n"
          ]
        }
      ]
    },
    {
      "cell_type": "code",
      "source": [
        "#with a fuction, codes that find whether the entered number is a prime number or not\n",
        "def is_prime(x):\n",
        "  if x<2:\n",
        "    return False\n",
        "  for i in range(2, x):\n",
        "    if x%i == 0:\n",
        "      return False\n",
        "  return True\n",
        "\n",
        "x = int(input(\"Enter a number:\"))\n",
        "if is_prime(x) == True:\n",
        "  print(\"This is a prime number\")\n",
        "else:\n",
        "  print(\"This is not a prime number\")"
      ],
      "metadata": {
        "colab": {
          "base_uri": "https://localhost:8080/"
        },
        "id": "sskkaoloMhaS",
        "outputId": "4e7e565e-d593-4d36-849e-b174ab89e6cc"
      },
      "execution_count": 76,
      "outputs": [
        {
          "output_type": "stream",
          "name": "stdout",
          "text": [
            "Enter a number:7\n",
            "This is a prime number\n",
            "Enter a number:9\n",
            "This is not a prime number\n"
          ]
        }
      ]
    },
    {
      "cell_type": "code",
      "source": [
        "#same with while\n",
        "def is_prime_while(x):\n",
        "  if x<2:\n",
        "    return False\n",
        "  elif x == 2:\n",
        "    return True\n",
        "  i = 2\n",
        "  while i<x:\n",
        "    if x%i == 0:\n",
        "      return False\n",
        "    i+=1\n",
        "    return True\n",
        "\n",
        "x = int(input(\"Enter a number:\"))\n",
        "if is_prime_while(x) == True:\n",
        "  print(\"This is a prime number\")\n",
        "else:\n",
        "  print(\"This is not a prime number\")"
      ],
      "metadata": {
        "colab": {
          "base_uri": "https://localhost:8080/"
        },
        "id": "BZFhkckKWYR_",
        "outputId": "9d7c942e-4f22-4e9e-fd3b-9c4a74e1fbe6"
      },
      "execution_count": 89,
      "outputs": [
        {
          "output_type": "stream",
          "name": "stdout",
          "text": [
            "Enter a number:8\n",
            "This is not a prime number\n"
          ]
        }
      ]
    },
    {
      "cell_type": "code",
      "source": [
        "#with a fuction, codes that give the factorial of the number given (with for and while)\n",
        "def factorial_for(x):\n",
        "  result = 1\n",
        "  for i in range(1,x + 1):\n",
        "    result *= i\n",
        "  return result\n",
        "\n",
        "x = int(int(input(\"Enter a number:\")))\n",
        "if x > 0:\n",
        "  print(\"The factorial of \", x, \"is\", factorial_for(x))\n",
        "else:\n",
        "  print(\"Please enter a positive number.\")\n"
      ],
      "metadata": {
        "colab": {
          "base_uri": "https://localhost:8080/"
        },
        "id": "sBHtwRG-NANM",
        "outputId": "4da1fb4d-90e5-43bb-9ae8-7a5e66802557"
      },
      "execution_count": 72,
      "outputs": [
        {
          "output_type": "stream",
          "name": "stdout",
          "text": [
            "Enter a number:3\n",
            "The factorial of  3 is 6\n"
          ]
        }
      ]
    },
    {
      "cell_type": "code",
      "source": [
        "#factorial with while loop\n",
        "def factorial_while(y):\n",
        "  result = 1\n",
        "  i=1\n",
        "  while i <= y:\n",
        "    result *= i\n",
        "    i+=1\n",
        "  return result\n",
        "\n",
        "y = int(int(input(\"Enter a number:\")))\n",
        "if x > 0:\n",
        "  print(\"The factorial of \", y, \"is\", factorial_while(y))\n",
        "else:\n",
        "  print(\"Please enter a positive number.\")"
      ],
      "metadata": {
        "colab": {
          "base_uri": "https://localhost:8080/"
        },
        "id": "DFsCxaNTVOi1",
        "outputId": "f94e4df9-8139-496e-d71e-ef86ad27d58f"
      },
      "execution_count": 75,
      "outputs": [
        {
          "output_type": "stream",
          "name": "stdout",
          "text": [
            "Enter a number:7\n",
            "The factorial of  7 is 5040\n"
          ]
        }
      ]
    },
    {
      "cell_type": "markdown",
      "source": [
        "# Homeworks (Week 2) May 10, 2025"
      ],
      "metadata": {
        "id": "dhJqVigPaXn-"
      }
    },
    {
      "cell_type": "code",
      "source": [],
      "metadata": {
        "id": "ZMll29ZWahRC"
      },
      "execution_count": null,
      "outputs": []
    }
  ]
}